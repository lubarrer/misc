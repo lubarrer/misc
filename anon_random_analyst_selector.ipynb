{
 "cells": [
  {
   "cell_type": "code",
   "execution_count": 1,
   "metadata": {},
   "outputs": [],
   "source": [
    "import random\n",
    "import pandas as pd\n",
    "import datetime"
   ]
  },
  {
   "cell_type": "code",
   "execution_count": null,
   "metadata": {},
   "outputs": [],
   "source": [
    "def master_list_updater(survey_path, master_list_path):\n",
    "    # load new entries\n",
    "    survey_results = pd.read_csv(survey_path)\n",
    "    # load list of eligible analysts and past winners\n",
    "    master_list = pd.read_csv(master_list_path)\n",
    "    # load list of pick dates and drop NaN\n",
    "    pick_dates = pd.Series(master_list['date']).dropna().to_list()\n",
    "    # isolate eligible analysts\n",
    "    eligible_analysts = pd.Series(master_list['randomizer_picklist']).dropna().to_list()\n",
    "    # isoltate analysts who have won before\n",
    "    uneligible_analysts = pd.Series(master_list['uneligible_analysts']).dropna().to_list()\n",
    "\n",
    "    # Check if entries are in the uneligible list, if not, append entries to list of eligible names\n",
    "    for n in survey_results['What is your Enterprise ID?']:\n",
    "        if n not in uneligible_analysts:\n",
    "            eligible_analysts.append(n)\n",
    "    # pick a random name out of the eligible analysts list\n",
    "    random_analyst = eligible_analysts[random.randint(0,len(eligible_analysts)-1)]\n",
    "    # add winner to the list of uneligible analysts\n",
    "    uneligible_analysts.append(random_analyst)\n",
    "    # remove all winner's entries from eligible list\n",
    "    for i in eligible_analysts:\n",
    "        if i == random_analyst:\n",
    "            eligible_analysts.pop(eligible_analysts.index(i))\n",
    "    # add date stamp\n",
    "    pick_dates.append(datetime.date.today())\n",
    "\n",
    "    # make all lists the same length\n",
    "    max_length = max(len(uneligible_analysts), len(eligible_analysts), len(pick_dates))\n",
    "    uneligible_analysts += [None] * (max_length - len(uneligible_analysts))\n",
    "    eligible_analysts += [None] * (max_length - len(eligible_analysts))\n",
    "    pick_dates += [None] * (max_length - len(pick_dates))\n",
    "\n",
    "    return random_analyst, uneligible_analysts, pick_dates, eligible_analysts\n",
    "\n",
    "def exporter():\n",
    "    # import survey results and historical list, pick winner, and update historical list\n",
    "    winner, updated_winner_list, date, updated_eligible_analysts = master_list_updater(survey_path=\"...\", master_list_path=\"...\")\n",
    "    # print the randomly chosen winner\n",
    "    print(\"{} is the winner!\".format(winner))\n",
    "    # reformat historical file csv\n",
    "    updated_master_list = pd.DataFrame(data={'randomizer_picklist': updated_eligible_analysts, 'uneligible_analysts': updated_winner_list, 'date': date})\n",
    "    # export new historical file and replace old one\n",
    "    updated_master_list.to_csv('C:/Users/luis.barrera/OneDrive - Accenture/LLT/Analyst_spotlight/analyst_spotlight_history.csv', index=False)\n",
    "\n",
    "def main():\n",
    "    # run script\n",
    "    exporter()\n"
   ]
  },
  {
   "cell_type": "code",
   "execution_count": null,
   "metadata": {},
   "outputs": [],
   "source": [
    "main()"
   ]
  }
 ],
 "metadata": {
  "kernelspec": {
   "display_name": "Python 3",
   "language": "python",
   "name": "python3"
  },
  "language_info": {
   "codemirror_mode": {
    "name": "ipython",
    "version": 3
   },
   "file_extension": ".py",
   "mimetype": "text/x-python",
   "name": "python",
   "nbconvert_exporter": "python",
   "pygments_lexer": "ipython3",
   "version": "3.10.8"
  },
  "orig_nbformat": 4
 },
 "nbformat": 4,
 "nbformat_minor": 2
}
